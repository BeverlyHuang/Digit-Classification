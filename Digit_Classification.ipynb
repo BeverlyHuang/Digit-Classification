{
  "nbformat": 4,
  "nbformat_minor": 0,
  "metadata": {
    "colab": {
      "name": "Digit_Classification.ipynb",
      "version": "0.3.2",
      "provenance": [],
      "include_colab_link": true
    },
    "kernelspec": {
      "name": "python3",
      "display_name": "Python 3"
    }
  },
  "cells": [
    {
      "cell_type": "markdown",
      "metadata": {
        "id": "view-in-github",
        "colab_type": "text"
      },
      "source": [
        "<a href=\"https://colab.research.google.com/github/BeverlyHuang/Digit-Classification/blob/master/Digit_Classification.ipynb\" target=\"_parent\"><img src=\"https://colab.research.google.com/assets/colab-badge.svg\" alt=\"Open In Colab\"/></a>"
      ]
    },
    {
      "metadata": {
        "id": "Kv6VAe-KLaGC",
        "colab_type": "text"
      },
      "cell_type": "markdown",
      "source": [
        "# Digit Classification\n"
      ]
    },
    {
      "metadata": {
        "id": "PzFZBmvRQ55d",
        "colab_type": "text"
      },
      "cell_type": "markdown",
      "source": [
        "### Key Evaluation Terms"
      ]
    },
    {
      "metadata": {
        "id": "-fPDHgYVUjcO",
        "colab_type": "text"
      },
      "cell_type": "markdown",
      "source": [
        "\n",
        "\n",
        "*  [Amazon ML Key Classification Metrics](https://docs.aws.amazon.com/machine-learning/latest/dg/binary-model-insights.html?icmpid=docs_machinelearning_console)\n",
        "*  [sklearn classification metrics\n",
        "](https://scikit-learn.org/stable/modules/generated/sklearn.metrics.precision_recall_fscore_support.html)\n"
      ]
    },
    {
      "metadata": {
        "id": "Q3oMU2XIRs-W",
        "colab_type": "text"
      },
      "cell_type": "markdown",
      "source": [
        "\n",
        "\n",
        "*   **Precision**:  Measures the fraction of actual positives among those examples that are predicted as positive. The range is 0 to 1. A larger value indicates better predictive accuracy\n",
        "\n",
        "*  ** Recall**:  Measures the fraction of actual positives that are predicted as positive. The range is 0 to 1. A larger value indicates better predictive accuracy\n",
        "\n",
        "*   **F1-score**:  Weighted average of recall and precision\n",
        "\n",
        "\n",
        "* **AUC**:  AUC measures the ability of the model to predict a higher score for positive examples as compared to negative examples\n",
        "\n",
        "* **False Positive Rat**e:  The false positive rate (FPR) measures the false alarm rate or the fraction of actual negatives that are predicted as positive. The range is 0 to 1. A smaller value indicates better predictive accuracy\n",
        "\n",
        "\n",
        "\n"
      ]
    },
    {
      "metadata": {
        "id": "anG7ax4vRvDr",
        "colab_type": "text"
      },
      "cell_type": "markdown",
      "source": [
        "##Ingestion"
      ]
    },
    {
      "metadata": {
        "id": "XXjm96aDR0v8",
        "colab_type": "text"
      },
      "cell_type": "markdown",
      "source": [
        "###Import Library"
      ]
    },
    {
      "metadata": {
        "id": "keOfSJZBRypN",
        "colab_type": "code",
        "colab": {}
      },
      "cell_type": "code",
      "source": [
        "import matplotlib.pyplot as plt\n",
        "%matplotlib inline\n",
        "from sklearn import datasets, svm, metrics\n",
        "from sklearn.datasets import load_digits\n",
        "from sklearn.model_selection import train_test_split\n",
        "from sklearn.linear_model import LogisticRegression\n",
        "from yellowbrick.classifier import ConfusionMatrix, ROCAUC"
      ],
      "execution_count": 0,
      "outputs": []
    },
    {
      "metadata": {
        "colab_type": "text",
        "id": "dNIVDq1GHjgi"
      },
      "cell_type": "markdown",
      "source": [
        "###Load Data"
      ]
    },
    {
      "metadata": {
        "id": "EZPpOFklR4dz",
        "colab_type": "code",
        "colab": {}
      },
      "cell_type": "code",
      "source": [
        "# The digits dataset\n",
        "digits = datasets.load_digits()"
      ],
      "execution_count": 0,
      "outputs": []
    },
    {
      "metadata": {
        "id": "mKing39-TnFp",
        "colab_type": "code",
        "outputId": "6fc4e56c-d10c-4832-a532-5777ff979558",
        "colab": {
          "base_uri": "https://localhost:8080/",
          "height": 34
        }
      },
      "cell_type": "code",
      "source": [
        "print(digits.keys())"
      ],
      "execution_count": 0,
      "outputs": [
        {
          "output_type": "stream",
          "text": [
            "dict_keys(['data', 'target', 'target_names', 'images', 'DESCR'])\n"
          ],
          "name": "stdout"
        }
      ]
    },
    {
      "metadata": {
        "id": "qj6qUVjuTseB",
        "colab_type": "code",
        "outputId": "413d7168-e582-47e5-af8f-bfcce4547051",
        "colab": {
          "base_uri": "https://localhost:8080/",
          "height": 34
        }
      },
      "cell_type": "code",
      "source": [
        "digits.data.shape"
      ],
      "execution_count": 0,
      "outputs": [
        {
          "output_type": "execute_result",
          "data": {
            "text/plain": [
              "(1797, 64)"
            ]
          },
          "metadata": {
            "tags": []
          },
          "execution_count": 5
        }
      ]
    },
    {
      "metadata": {
        "id": "kmbdoxQlT0PN",
        "colab_type": "code",
        "outputId": "2543b1d7-9b78-43d8-8a67-2dbbbd195d4c",
        "colab": {
          "base_uri": "https://localhost:8080/",
          "height": 34
        }
      },
      "cell_type": "code",
      "source": [
        "digits.target_names"
      ],
      "execution_count": 0,
      "outputs": [
        {
          "output_type": "execute_result",
          "data": {
            "text/plain": [
              "array([0, 1, 2, 3, 4, 5, 6, 7, 8, 9])"
            ]
          },
          "metadata": {
            "tags": []
          },
          "execution_count": 6
        }
      ]
    },
    {
      "metadata": {
        "id": "NVzRW0dRj_AU",
        "colab_type": "text"
      },
      "cell_type": "markdown",
      "source": [
        "## EDA"
      ]
    },
    {
      "metadata": {
        "id": "sItamCivSANe",
        "colab_type": "code",
        "outputId": "32787117-0d89-48fb-b329-e8653708fd18",
        "colab": {
          "base_uri": "https://localhost:8080/",
          "height": 239
        }
      },
      "cell_type": "code",
      "source": [
        "# The data that we are interested in is made of 8x8 images of digits, let's\n",
        "# have a look at the first 10 images, stored in the `images` attribute of the\n",
        "# dataset.  If we were working from image files, we could load them using\n",
        "# matplotlib.pyplot.imread.  Note that each image must have the same size. For these\n",
        "# images, we know which digit they represent: it is given in the 'target' of\n",
        "# the dataset.\n",
        "\n",
        "images_and_labels = list(zip(digits.images, digits.target))\n",
        "\n",
        "for index, (image, label) in enumerate(images_and_labels[:10]):\n",
        "    plt.subplot(2, 5, index + 1)\n",
        "    plt.axis('off')\n",
        "    plt.imshow(image, cmap=plt.cm.viridis, interpolation='nearest')\n",
        "    plt.title('Training: %i' % label)\n"
      ],
      "execution_count": 0,
      "outputs": [
        {
          "output_type": "display_data",
          "data": {
            "image/png": "[encoded data removed]",
            "text/plain": [
              "<Figure size 432x288 with 10 Axes>"
            ]
          },
          "metadata": {
            "tags": []
          }
        }
      ]
    },
    {
      "metadata": {
        "id": "l8waByVoLf1o",
        "colab_type": "text"
      },
      "cell_type": "markdown",
      "source": [
        "## Modeling using SVC\n",
        "\n",
        "https://scikit-learn.org/stable/auto_examples/classification/plot_digits_classification.html"
      ]
    },
    {
      "metadata": {
        "id": "AypnowRzXIpJ",
        "colab_type": "text"
      },
      "cell_type": "markdown",
      "source": [
        "###Transform data for modeling"
      ]
    },
    {
      "metadata": {
        "id": "0AgHIgakLiT9",
        "colab_type": "code",
        "colab": {}
      },
      "cell_type": "code",
      "source": [
        "# To apply a classifier on this data, we need to flatten the image, to\n",
        "# turn the data in a (samples, feature) matrix:\n",
        "n_samples = len(digits.images)\n",
        "data = digits.images.reshape((n_samples, -1))"
      ],
      "execution_count": 0,
      "outputs": []
    },
    {
      "metadata": {
        "colab_type": "text",
        "id": "N65Ic94xQRQ1"
      },
      "cell_type": "markdown",
      "source": [
        "###Train Test Split"
      ]
    },
    {
      "metadata": {
        "colab_type": "code",
        "id": "ihIRaNljQRQ3",
        "colab": {}
      },
      "cell_type": "code",
      "source": [
        "# We'll use the handwritten digits data set from scikit-learn.\n",
        "# Each feature of this dataset is an 8x8 pixel image of a handwritten number.\n",
        "# Digits.data converts these 64 pixels into a single array of features\n",
        "digits = load_digits()\n",
        "X = digits.data\n",
        "y = digits.target\n",
        "\n",
        "X_train = X[:n_samples // 2]\n",
        "y_train = y[:n_samples // 2]\n",
        "X_test = X[n_samples // 2:]\n",
        "y_test = y[n_samples // 2:]"
      ],
      "execution_count": 0,
      "outputs": []
    },
    {
      "metadata": {
        "id": "B8DmqT96Xac3",
        "colab_type": "text"
      },
      "cell_type": "markdown",
      "source": [
        "###Create SVC model to fit data"
      ]
    },
    {
      "metadata": {
        "id": "8TSHRT2GXGik",
        "colab_type": "code",
        "colab": {}
      },
      "cell_type": "code",
      "source": [
        "# Create a classifier: a support vector classifier\n",
        "classifier = svm.SVC(gamma=0.001)\n",
        "\n",
        "# We learn the digits on the first half of the digits\n",
        "classifier.fit(data[:n_samples // 2], y_train)\n",
        "\n",
        "# Now predict the value of the digit on the second half:\n",
        "expected = y_test\n",
        "predicted = classifier.predict(X_test)"
      ],
      "execution_count": 0,
      "outputs": []
    },
    {
      "metadata": {
        "id": "EFz9khgBGDCF",
        "colab_type": "text"
      },
      "cell_type": "markdown",
      "source": [
        "###Show prediction"
      ]
    },
    {
      "metadata": {
        "id": "TOzKbRwbGAOu",
        "colab_type": "code",
        "outputId": "6ecb2e4b-1e93-4a25-ac1a-07a81e6e1ed1",
        "colab": {
          "base_uri": "https://localhost:8080/",
          "height": 239
        }
      },
      "cell_type": "code",
      "source": [
        "images_and_predictions = list(zip(digits.images[n_samples // 2:], predicted))\n",
        "for index, (image, prediction) in enumerate(images_and_predictions[:10]):\n",
        "    plt.subplot(2, 5, index + 1)\n",
        "    plt.axis('off')\n",
        "    plt.imshow(image, cmap=plt.cm.viridis, interpolation='nearest')\n",
        "    plt.title('Prediction: %i' % prediction)\n",
        "\n",
        "plt.show()"
      ],
      "execution_count": 0,
      "outputs": [
        {
          "output_type": "display_data",
          "data": {
            "image/png": "[encoded data removed]",
            "text/plain": [
              "<Figure size 432x288 with 10 Axes>"
            ]
          },
          "metadata": {
            "tags": []
          }
        }
      ]
    },
    {
      "metadata": {
        "id": "mdv-raeTXliS",
        "colab_type": "text"
      },
      "cell_type": "markdown",
      "source": [
        "###Classification report and Confusion matrix"
      ]
    },
    {
      "metadata": {
        "id": "nUwdc9dvXUsJ",
        "colab_type": "code",
        "outputId": "469c8822-587a-4612-8482-5d9926e1b2bd",
        "colab": {
          "base_uri": "https://localhost:8080/",
          "height": 578
        }
      },
      "cell_type": "code",
      "source": [
        "print(\"Classification report for classifier %s:\\n%s\\n\"\n",
        "      % (classifier, metrics.classification_report(expected, predicted)))\n",
        "print(\"Confusion matrix:\\n%s\" % metrics.confusion_matrix(expected, predicted))"
      ],
      "execution_count": 0,
      "outputs": [
        {
          "output_type": "stream",
          "text": [
            "Classification report for classifier SVC(C=1.0, cache_size=200, class_weight=None, coef0=0.0,\n",
            "  decision_function_shape='ovr', degree=3, gamma=0.001, kernel='rbf',\n",
            "  max_iter=-1, probability=False, random_state=None, shrinking=True,\n",
            "  tol=0.001, verbose=False):\n",
            "              precision    recall  f1-score   support\n",
            "\n",
            "           0       1.00      0.99      0.99        88\n",
            "           1       0.99      0.97      0.98        91\n",
            "           2       0.99      0.99      0.99        86\n",
            "           3       0.98      0.87      0.92        91\n",
            "           4       0.99      0.96      0.97        92\n",
            "           5       0.95      0.97      0.96        91\n",
            "           6       0.99      0.99      0.99        91\n",
            "           7       0.96      0.99      0.97        89\n",
            "           8       0.94      1.00      0.97        88\n",
            "           9       0.93      0.98      0.95        92\n",
            "\n",
            "   micro avg       0.97      0.97      0.97       899\n",
            "   macro avg       0.97      0.97      0.97       899\n",
            "weighted avg       0.97      0.97      0.97       899\n",
            "\n",
            "\n",
            "Confusion matrix:\n",
            "[[87  0  0  0  1  0  0  0  0  0]\n",
            " [ 0 88  1  0  0  0  0  0  1  1]\n",
            " [ 0  0 85  1  0  0  0  0  0  0]\n",
            " [ 0  0  0 79  0  3  0  4  5  0]\n",
            " [ 0  0  0  0 88  0  0  0  0  4]\n",
            " [ 0  0  0  0  0 88  1  0  0  2]\n",
            " [ 0  1  0  0  0  0 90  0  0  0]\n",
            " [ 0  0  0  0  0  1  0 88  0  0]\n",
            " [ 0  0  0  0  0  0  0  0 88  0]\n",
            " [ 0  0  0  1  0  1  0  0  0 90]]\n"
          ],
          "name": "stdout"
        }
      ]
    },
    {
      "metadata": {
        "colab_type": "text",
        "id": "-ApWgEyCRQyx"
      },
      "cell_type": "markdown",
      "source": [
        "### Evaluate the model using the Yellowbrick Confusion Matrix\n",
        "\n"
      ]
    },
    {
      "metadata": {
        "colab_type": "text",
        "id": "Vcdf1mk3RQyy"
      },
      "cell_type": "markdown",
      "source": [
        "http://www.scikit-yb.org/en/latest/api/classifier/confusion_matrix.html\n"
      ]
    },
    {
      "metadata": {
        "colab_type": "code",
        "outputId": "d8047695-ec3b-4f43-dced-42bd2bbb134a",
        "id": "rBoZs8QGRQyy",
        "colab": {
          "base_uri": "https://localhost:8080/",
          "height": 290
        }
      },
      "cell_type": "code",
      "source": [
        "classes=[0,1,2,3,4,5,6,7,8,9]\n",
        "\n",
        "# The ConfusionMatrix visualizer taxes a model\n",
        "cm = ConfusionMatrix(classifier, classes=classes)\n",
        "\n",
        "# Fit fits the passed model. This is unnecessary if you pass the visualizer a pre-fitted model\n",
        "cm.fit(X_train, y_train)\n",
        "\n",
        "# To create the ConfusionMatrix, we need some test data. Score runs predict() on the data\n",
        "# and then creates the confusion_matrix from scikit-learn.\n",
        "cm.score(X_test, y_test)\n",
        "\n",
        "# How did we do?\n",
        "cm.poof()"
      ],
      "execution_count": 0,
      "outputs": [
        {
          "output_type": "display_data",
          "data": {
            "image/png": "[encoded data removed]",
            "text/plain": [
              "<Figure size 432x288 with 1 Axes>"
            ]
          },
          "metadata": {
            "tags": []
          }
        }
      ]
    },
    {
      "metadata": {
        "colab_type": "text",
        "id": "tuMRxywoRQy2"
      },
      "cell_type": "markdown",
      "source": [
        "### Evaluate the model using ROCAUC"
      ]
    },
    {
      "metadata": {
        "colab_type": "text",
        "id": "cqGAIP6tRQy2"
      },
      "cell_type": "markdown",
      "source": [
        "http://www.scikit-yb.org/en/latest/api/classifier/rocauc.html\n"
      ]
    },
    {
      "metadata": {
        "colab_type": "code",
        "outputId": "9c8dfbae-b757-4125-88a3-0c1010f6aad4",
        "id": "-xYOoGUBRQy3",
        "colab": {
          "base_uri": "https://localhost:8080/",
          "height": 294
        }
      },
      "cell_type": "code",
      "source": [
        "# Instantiate the visualizer with the classification model\n",
        "visualizer = ROCAUC(classifier, classes=classes)\n",
        "\n",
        "visualizer.fit(X_train, y_train)  # Fit the training data to the visualizer\n",
        "visualizer.score(X_test, y_test)  # Evaluate the model on the test data\n",
        "g = visualizer.poof()             # Draw/show/poof the data"
      ],
      "execution_count": 0,
      "outputs": [
        {
          "output_type": "display_data",
          "data": {
            "image/png": "[encoded data removed]",
            "text/plain": [
              "<Figure size 432x288 with 1 Axes>"
            ]
          },
          "metadata": {
            "tags": []
          }
        }
      ]
    },
    {
      "metadata": {
        "id": "ujcSePgsH3B9",
        "colab_type": "text"
      },
      "cell_type": "markdown",
      "source": [
        "##Modeling using Logistic Regression"
      ]
    },
    {
      "metadata": {
        "id": "DepN1fFlIE7o",
        "colab_type": "text"
      },
      "cell_type": "markdown",
      "source": [
        "###Create a Logistic Regression model"
      ]
    },
    {
      "metadata": {
        "id": "M_r1Ie4tM_Dd",
        "colab_type": "code",
        "outputId": "15690f0e-2c80-49b2-8f78-87f795ef8262",
        "colab": {
          "base_uri": "https://localhost:8080/",
          "height": 105
        }
      },
      "cell_type": "code",
      "source": [
        "model = LogisticRegression()\n",
        "\n",
        "# We learn the digits on the first half of the digits\n",
        "model.fit(X_train, y_train)\n",
        "\n",
        "# Now predict the value of the digit on the second half:\n",
        "expected = y_test\n",
        "predicted = model.predict(X_test)"
      ],
      "execution_count": 0,
      "outputs": [
        {
          "output_type": "stream",
          "text": [
            "/usr/local/lib/python3.6/dist-packages/sklearn/linear_model/logistic.py:433: FutureWarning: Default solver will be changed to 'lbfgs' in 0.22. Specify a solver to silence this warning.\n",
            "  FutureWarning)\n",
            "/usr/local/lib/python3.6/dist-packages/sklearn/linear_model/logistic.py:460: FutureWarning: Default multi_class will be changed to 'auto' in 0.22. Specify the multi_class option to silence this warning.\n",
            "  \"this warning.\", FutureWarning)\n"
          ],
          "name": "stderr"
        }
      ]
    },
    {
      "metadata": {
        "id": "OyKOFetQPbyb",
        "colab_type": "code",
        "outputId": "6d4e1367-b723-417b-c3e9-dd281873ee2e",
        "colab": {
          "base_uri": "https://localhost:8080/",
          "height": 578
        }
      },
      "cell_type": "code",
      "source": [
        "print(\"Classification report for classifier %s:\\n%s\\n\"\n",
        "      % (classifier, metrics.classification_report(expected, predicted)))\n",
        "print(\"Confusion matrix:\\n%s\" % metrics.confusion_matrix(expected, predicted))"
      ],
      "execution_count": 0,
      "outputs": [
        {
          "output_type": "stream",
          "text": [
            "Classification report for classifier SVC(C=1.0, cache_size=200, class_weight=None, coef0=0.0,\n",
            "  decision_function_shape='ovr', degree=3, gamma=0.001, kernel='rbf',\n",
            "  max_iter=-1, probability=False, random_state=None, shrinking=True,\n",
            "  tol=0.001, verbose=False):\n",
            "              precision    recall  f1-score   support\n",
            "\n",
            "           0       0.94      0.97      0.96        88\n",
            "           1       0.86      0.89      0.88        91\n",
            "           2       0.98      0.98      0.98        86\n",
            "           3       0.99      0.82      0.90        91\n",
            "           4       0.99      0.93      0.96        92\n",
            "           5       0.83      0.90      0.86        91\n",
            "           6       0.94      0.99      0.96        91\n",
            "           7       0.98      0.89      0.93        89\n",
            "           8       0.89      0.88      0.88        88\n",
            "           9       0.83      0.92      0.87        92\n",
            "\n",
            "   micro avg       0.92      0.92      0.92       899\n",
            "   macro avg       0.92      0.92      0.92       899\n",
            "weighted avg       0.92      0.92      0.92       899\n",
            "\n",
            "\n",
            "Confusion matrix:\n",
            "[[85  0  0  0  1  1  1  0  0  0]\n",
            " [ 0 81  0  1  0  0  1  0  2  6]\n",
            " [ 2  0 84  0  0  0  0  0  0  0]\n",
            " [ 0  1  0 75  0  6  0  2  5  2]\n",
            " [ 1  2  0  0 86  0  1  0  0  2]\n",
            " [ 0  3  0  0  0 82  2  0  0  4]\n",
            " [ 0  0  1  0  0  0 90  0  0  0]\n",
            " [ 0  1  0  0  0  5  0 79  1  3]\n",
            " [ 0  5  1  0  0  3  1  0 77  1]\n",
            " [ 2  1  0  0  0  2  0  0  2 85]]\n"
          ],
          "name": "stdout"
        }
      ]
    },
    {
      "metadata": {
        "colab_type": "text",
        "id": "s7KCv0yNJEO7"
      },
      "cell_type": "markdown",
      "source": [
        "### Evaluate the model using the Yellowbrick Confusion Matrix\n",
        "\n"
      ]
    },
    {
      "metadata": {
        "id": "R4ZEVeb7jnrg",
        "colab_type": "text"
      },
      "cell_type": "markdown",
      "source": [
        "http://www.scikit-yb.org/en/latest/api/classifier/confusion_matrix.html\n"
      ]
    },
    {
      "metadata": {
        "colab_type": "code",
        "outputId": "c9434750-b4ce-46bf-cb61-d4acae8d0a7d",
        "id": "2-NmRpxfJEOd",
        "colab": {
          "base_uri": "https://localhost:8080/",
          "height": 378
        }
      },
      "cell_type": "code",
      "source": [
        "# The ConfusionMatrix visualizer taxes a model\n",
        "cm = ConfusionMatrix(model, classes=classes)\n",
        "\n",
        "# Fit fits the passed model. This is unnecessary if you pass the visualizer a pre-fitted model\n",
        "cm.fit(X_train, y_train)\n",
        "\n",
        "# To create the ConfusionMatrix, we need some test data. Score runs predict() on the data\n",
        "# and then creates the confusion_matrix from scikit-learn.\n",
        "cm.score(X_test, y_test)\n",
        "\n",
        "# How did we do?\n",
        "cm.poof()"
      ],
      "execution_count": 0,
      "outputs": [
        {
          "output_type": "stream",
          "text": [
            "/usr/local/lib/python3.6/dist-packages/sklearn/linear_model/logistic.py:433: FutureWarning: Default solver will be changed to 'lbfgs' in 0.22. Specify a solver to silence this warning.\n",
            "  FutureWarning)\n",
            "/usr/local/lib/python3.6/dist-packages/sklearn/linear_model/logistic.py:460: FutureWarning: Default multi_class will be changed to 'auto' in 0.22. Specify the multi_class option to silence this warning.\n",
            "  \"this warning.\", FutureWarning)\n"
          ],
          "name": "stderr"
        },
        {
          "output_type": "display_data",
          "data": {
            "image/png": "[encoded data removed]",
            "text/plain": [
              "<Figure size 432x288 with 1 Axes>"
            ]
          },
          "metadata": {
            "tags": []
          }
        }
      ]
    },
    {
      "metadata": {
        "id": "s8WFPhRBkOvj",
        "colab_type": "text"
      },
      "cell_type": "markdown",
      "source": [
        "### Evaluate the model using ROCAUC"
      ]
    },
    {
      "metadata": {
        "id": "rGkqrpnOlzRn",
        "colab_type": "text"
      },
      "cell_type": "markdown",
      "source": [
        "http://www.scikit-yb.org/en/latest/api/classifier/rocauc.html\n"
      ]
    },
    {
      "metadata": {
        "id": "UBYybshikrvW",
        "colab_type": "code",
        "outputId": "6231d64d-e55f-4794-c67b-83b3f5a280ac",
        "colab": {
          "base_uri": "https://localhost:8080/",
          "height": 382
        }
      },
      "cell_type": "code",
      "source": [
        "# Instantiate the visualizer with the classification model\n",
        "visualizer = ROCAUC(model, classes=classes)\n",
        "\n",
        "visualizer.fit(X_train, y_train)  # Fit the training data to the visualizer\n",
        "visualizer.score(X_test, y_test)  # Evaluate the model on the test data\n",
        "g = visualizer.poof()             # Draw/show/poof the data"
      ],
      "execution_count": 0,
      "outputs": [
        {
          "output_type": "stream",
          "text": [
            "/usr/local/lib/python3.6/dist-packages/sklearn/linear_model/logistic.py:433: FutureWarning: Default solver will be changed to 'lbfgs' in 0.22. Specify a solver to silence this warning.\n",
            "  FutureWarning)\n",
            "/usr/local/lib/python3.6/dist-packages/sklearn/linear_model/logistic.py:460: FutureWarning: Default multi_class will be changed to 'auto' in 0.22. Specify the multi_class option to silence this warning.\n",
            "  \"this warning.\", FutureWarning)\n"
          ],
          "name": "stderr"
        },
        {
          "output_type": "display_data",
          "data": {
            "image/png": "[encoded data removed]",
            "text/plain": [
              "<Figure size 432x288 with 1 Axes>"
            ]
          },
          "metadata": {
            "tags": []
          }
        }
      ]
    },
    {
      "metadata": {
        "id": "_KG9BVl4nz-y",
        "colab_type": "text"
      },
      "cell_type": "markdown",
      "source": [
        "##Conclusion"
      ]
    },
    {
      "metadata": {
        "id": "yY2WB29fJlEr",
        "colab_type": "text"
      },
      "cell_type": "markdown",
      "source": [
        "The project aims to classify written digits based on image data. Two models are used in this project.\n",
        "SVC model classifies digits based on \"images\" attribute of the dataset (which is an 8*8 image), while logistics regression model uses \"data\" attribute of the dataset (which is a single array of features about the 64 pixels) We evaluate the accuracy of two models using Confusion matrix and ROC curve.The result shows that SVC model has higher accuracy in classification."
      ]
    }
  ]
}